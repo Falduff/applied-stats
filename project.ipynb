{
 "cells": [
  {
   "cell_type": "code",
   "execution_count": 4,
   "metadata": {},
   "outputs": [],
   "source": [
    "import pandas as pd\n",
    "import numpy as np\n",
    "import matplotlib.pyplot as plt\n",
    "import seaborn as sns\n",
    "from scipy.stats import ttest_ind, shapiro, levene, f_oneway\n",
    "from statsmodels.stats.multicomp import pairwise_tukeyhsd"
   ]
  },
  {
   "cell_type": "code",
   "execution_count": 7,
   "metadata": {},
   "outputs": [
    {
     "name": "stdout",
     "output_type": "stream",
     "text": [
      "   rownames  weight group\n",
      "0         1    4.17  ctrl\n",
      "1         2    5.58  ctrl\n",
      "2         3    5.18  ctrl\n",
      "3         4    6.11  ctrl\n",
      "4         5    4.50  ctrl\n",
      "        rownames     weight\n",
      "count  30.000000  30.000000\n",
      "mean   15.500000   5.073000\n",
      "std     8.803408   0.701192\n",
      "min     1.000000   3.590000\n",
      "25%     8.250000   4.550000\n",
      "50%    15.500000   5.155000\n",
      "75%    22.750000   5.530000\n",
      "max    30.000000   6.310000\n",
      "group\n",
      "ctrl    10\n",
      "trt1    10\n",
      "trt2    10\n",
      "Name: count, dtype: int64\n"
     ]
    }
   ],
   "source": [
    "#Load the data\n",
    "df = pd.read_csv(\"https://raw.githubusercontent.com/vincentarelbundock/Rdatasets/master/csv/datasets/PlantGrowth.csv\")\n",
    "\n",
    "df.to_csv(\"PlantGrowth.csv\", index=False)\n",
    "\n",
    "print(df.head())\n",
    "\n",
    "print(df.describe())\n",
    "\n",
    "print(df[\"group\"].value_counts())"
   ]
  },
  {
   "cell_type": "code",
   "execution_count": null,
   "metadata": {},
   "outputs": [],
   "source": []
  }
 ],
 "metadata": {
  "kernelspec": {
   "display_name": "aps",
   "language": "python",
   "name": "python3"
  },
  "language_info": {
   "codemirror_mode": {
    "name": "ipython",
    "version": 3
   },
   "file_extension": ".py",
   "mimetype": "text/x-python",
   "name": "python",
   "nbconvert_exporter": "python",
   "pygments_lexer": "ipython3",
   "version": "3.10.16"
  }
 },
 "nbformat": 4,
 "nbformat_minor": 2
}
