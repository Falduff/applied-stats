{
 "cells": [
  {
   "cell_type": "code",
   "execution_count": 8,
   "metadata": {},
   "outputs": [],
   "source": [
    "import pandas as pd\n",
    "import numpy as np\n",
    "import matplotlib.pyplot as plt\n",
    "import seaborn as sns\n",
    "from scipy.stats import ttest_ind, shapiro, levene, f_oneway\n",
    "from statsmodels.stats.multicomp import pairwise_tukeyhsd"
   ]
  },
  {
   "cell_type": "code",
   "execution_count": 7,
   "metadata": {},
   "outputs": [
    {
     "name": "stdout",
     "output_type": "stream",
     "text": [
      "   rownames  weight group\n",
      "0         1    4.17  ctrl\n",
      "1         2    5.58  ctrl\n",
      "2         3    5.18  ctrl\n",
      "3         4    6.11  ctrl\n",
      "4         5    4.50  ctrl\n",
      "        rownames     weight\n",
      "count  30.000000  30.000000\n",
      "mean   15.500000   5.073000\n",
      "std     8.803408   0.701192\n",
      "min     1.000000   3.590000\n",
      "25%     8.250000   4.550000\n",
      "50%    15.500000   5.155000\n",
      "75%    22.750000   5.530000\n",
      "max    30.000000   6.310000\n",
      "group\n",
      "ctrl    10\n",
      "trt1    10\n",
      "trt2    10\n",
      "Name: count, dtype: int64\n"
     ]
    }
   ],
   "source": [
    "#Load the data\n",
    "df = pd.read_csv(\"https://raw.githubusercontent.com/vincentarelbundock/Rdatasets/master/csv/datasets/PlantGrowth.csv\")\n",
    "\n",
    "df.to_csv(\"PlantGrowth.csv\", index=False)\n",
    "\n",
    "print(df.head())\n",
    "\n",
    "print(df.describe())\n",
    "\n",
    "print(df[\"group\"].value_counts())"
   ]
  },
  {
   "cell_type": "markdown",
   "metadata": {},
   "source": [
    "This dataset has 30 observations 10 in each group (ctrl, trt1, trt2).\n",
    "The plantweight mean is 5.07 and has a standard deviation of 0.70."
   ]
  },
  {
   "cell_type": "markdown",
   "metadata": {},
   "source": [
    "A t-test is a statistical test used to determine if there is a significant difference between the means of 2 groups.\n",
    "It can be used to compare the means of two small samples.\n",
    "\n",
    "The Null Hypothesis is: There is no difference between the means of the two groups.\n",
    "The Alternate Hypothesis: There is a difference between the means\n",
    "The test statistic is calculated using the formula.\n",
    "The result is compared against the critical value based on the degree of freedom and significance level.\n",
    "The p-value is then used to interpret result. A value less than the chosen cut-off (e.g 0.05) indicates statistical significance. \n",
    "\n",
    "\n",
    "The type of t-test we will be carrying out is an Independent group t-test. This is because the trt1 and trt2 groups consist of separate sets of plants that are not related to each other.\n",
    "There are also no paired observations.\n",
    "\n",
    "A t-test works with the following assumptions:\n",
    "Normality:\n",
    "The data in each group are approximately normally distributed.\n",
    "\n",
    "Independent Samples:\n",
    "Observations in one group are not related to those in the other.\n",
    "\n",
    "Homogeneity of Variances:\n",
    "The variance of the two groups are similar.\n",
    "\n",
    "Scale of Measurement:\n",
    "The dependent variable are measured on a continuous scale."
   ]
  },
  {
   "cell_type": "code",
   "execution_count": 16,
   "metadata": {},
   "outputs": [
    {
     "name": "stdout",
     "output_type": "stream",
     "text": [
      "Shapiro-Wilk Test\n",
      "trt1: Statistic = 0.9304, p-value = 0.4519\n",
      "trt2: Statistic = 0.9410, p-value = 0.5643\n",
      "Levene's Test\n",
      "Statistic = 2.1042, p-value = 0.1641\n",
      "Independent T-Test\n",
      "Statistic = -3.0101, p-value = 0.0075, df = 18\n"
     ]
    }
   ],
   "source": [
    "trt1 = df[df['group'] == 'trt1']['weight']\n",
    "trt2 = df[df['group'] == 'trt2']['weight']\n",
    "\n",
    "#Shapiro-Wilk test\n",
    "shapiro_trt1 = shapiro(trt1)\n",
    "shapiro_trt2 = shapiro(trt2)\n",
    "\n",
    "#Levene's test\n",
    "levene_result = levene(trt1, trt2)\n",
    "\n",
    "#Perform the independent samples t-test\n",
    "t_test_result = ttest_ind(trt1, trt2, equal_var=True)\n",
    "\n",
    "#Print results.\n",
    "print(\"Shapiro-Wilk Test\")\n",
    "print(f\"trt1: Statistic = {shapiro_trt1.statistic:.4f}, p-value = {shapiro_trt1.pvalue:.4f}\")\n",
    "print(f\"trt2: Statistic = {shapiro_trt2.statistic:.4f}, p-value = {shapiro_trt2.pvalue:.4f}\")\n",
    "\n",
    "print(\"Levene's Test\")\n",
    "print(f\"Statistic = {levene_result.statistic:.4f}, p-value = {levene_result.pvalue:.4f}\")\n",
    "\n",
    "print(\"Independent T-Test\")\n",
    "print(f\"Statistic = {t_test_result.statistic:.4f}, p-value = {t_test_result.pvalue:.4f}, df = {t_test_result.df:.0f}\")\n",
    "\n"
   ]
  },
  {
   "cell_type": "markdown",
   "metadata": {},
   "source": [
    "The Shapiro-Wilk test was used to check the data in the groups is normally distributed. This is used to satisfy the assumption for the t-test.\n",
    "Both groups have a p value above 0.05 meaning the data is suitable.\n",
    "\n",
    "The Levene test was used to ensure teh variances of the groups are equal.\n",
    "Again the levene p value was above 0.05 confirming the assumption is met.\n",
    "\n",
    "The independant t-test was used to determine if there is significant difference between the means of plant weigths in the 2 groups.\n",
    "The p-value is less than 0.05 suggesting the treatments had a different effect on plant weights."
   ]
  },
  {
   "cell_type": "code",
   "execution_count": 18,
   "metadata": {},
   "outputs": [
    {
     "name": "stdout",
     "output_type": "stream",
     "text": [
      "ANOVA Result:\n",
      "F-statistic = 4.8461, p-value = 0.0159\n"
     ]
    }
   ],
   "source": [
    "ctrl = df[df['group'] == 'ctrl']['weight']\n",
    "\n",
    "# Perform one-way ANOVA\n",
    "anova_result = f_oneway(ctrl, trt1, trt2)\n",
    "\n",
    "# Display the results\n",
    "print(\"ANOVA Result:\")\n",
    "print(f\"F-statistic = {anova_result.statistic:.4f}, p-value = {anova_result.pvalue:.4f}\")\n",
    "\n"
   ]
  },
  {
   "cell_type": "markdown",
   "metadata": {},
   "source": [
    "The one-way ANOVA test yielded an F-statistic of 4.8461 with a p-value of 0.0159. This indicates a statistically significant difference in plant weights among the three groups (ctrl, trt1, and trt2) at the 5% significance level."
   ]
  },
  {
   "cell_type": "markdown",
   "metadata": {},
   "source": [
    "The ANOVA test is more appropriate than multiple t-tests because when analyzing more than two groups, multiple t-tests increase the risk of Type I error (false positives) due to repeated testing. ANOVA addresses this by evaluating all group means simultaneously, maintaining the overall significance level and providing a single statistical test for differences across all groups."
   ]
  },
  {
   "cell_type": "markdown",
   "metadata": {},
   "source": []
  }
 ],
 "metadata": {
  "kernelspec": {
   "display_name": "aps",
   "language": "python",
   "name": "python3"
  },
  "language_info": {
   "codemirror_mode": {
    "name": "ipython",
    "version": 3
   },
   "file_extension": ".py",
   "mimetype": "text/x-python",
   "name": "python",
   "nbconvert_exporter": "python",
   "pygments_lexer": "ipython3",
   "version": "3.10.16"
  }
 },
 "nbformat": 4,
 "nbformat_minor": 2
}
