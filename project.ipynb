{
 "cells": [
  {
   "cell_type": "code",
   "execution_count": 4,
   "metadata": {},
   "outputs": [],
   "source": [
    "import pandas as pd\n",
    "import numpy as np\n",
    "import matplotlib.pyplot as plt\n",
    "import seaborn as sns\n",
    "from scipy.stats import ttest_ind, shapiro, levene, f_oneway\n",
    "from statsmodels.stats.multicomp import pairwise_tukeyhsd"
   ]
  },
  {
   "cell_type": "code",
   "execution_count": 7,
   "metadata": {},
   "outputs": [
    {
     "name": "stdout",
     "output_type": "stream",
     "text": [
      "   rownames  weight group\n",
      "0         1    4.17  ctrl\n",
      "1         2    5.58  ctrl\n",
      "2         3    5.18  ctrl\n",
      "3         4    6.11  ctrl\n",
      "4         5    4.50  ctrl\n",
      "        rownames     weight\n",
      "count  30.000000  30.000000\n",
      "mean   15.500000   5.073000\n",
      "std     8.803408   0.701192\n",
      "min     1.000000   3.590000\n",
      "25%     8.250000   4.550000\n",
      "50%    15.500000   5.155000\n",
      "75%    22.750000   5.530000\n",
      "max    30.000000   6.310000\n",
      "group\n",
      "ctrl    10\n",
      "trt1    10\n",
      "trt2    10\n",
      "Name: count, dtype: int64\n"
     ]
    }
   ],
   "source": [
    "#Load the data\n",
    "df = pd.read_csv(\"https://raw.githubusercontent.com/vincentarelbundock/Rdatasets/master/csv/datasets/PlantGrowth.csv\")\n",
    "\n",
    "df.to_csv(\"PlantGrowth.csv\", index=False)\n",
    "\n",
    "print(df.head())\n",
    "\n",
    "print(df.describe())\n",
    "\n",
    "print(df[\"group\"].value_counts())"
   ]
  },
  {
   "cell_type": "markdown",
   "metadata": {},
   "source": [
    "This dataset has 30 observations 10 in each group (ctrl, trt1, trt2).\n",
    "The plantweight mean is 5.07 and has a standard deviation of 0.70."
   ]
  },
  {
   "cell_type": "markdown",
   "metadata": {},
   "source": [
    "A t-test is a statistical test used to determine if there is a significant difference between the means of 2 groups.\n",
    "It can be used to compare the means of two small samples.\n",
    "\n",
    "The Null Hypothesis is: There is no difference between the means of the two groups.\n",
    "The Alternate Hypothesis: There is a difference between the means\n",
    "The test statistic is calculated using the formula.\n",
    "The result is compared against the critical value based on the degree of freedom and significance level.\n",
    "The p-value is then used to interpret result. A value less than the chosen cut-off (e.g 0.05) indicates statistical significance. \n",
    "\n",
    "\n",
    "The type of t-test we will be carrying out is an Independent group t-test. This is because the trt1 and trt2 groups consist of separate sets of plants that are not related to each other.\n",
    "There are also no paired observations.\n",
    "\n",
    "A t-test works with the following assumptions:\n",
    "Normality:\n",
    "The data in each group are approximately normally distributed.\n",
    "\n",
    "Independent Samples:\n",
    "Observations in one group are not related to those in the other.\n",
    "\n",
    "Homogeneity of Variances:\n",
    "The variance of the two groups are similar.\n",
    "\n",
    "Scale of Measurement:\n",
    "The dependent variable are measured on a continuous scale."
   ]
  },
  {
   "cell_type": "code",
   "execution_count": null,
   "metadata": {},
   "outputs": [],
   "source": []
  }
 ],
 "metadata": {
  "kernelspec": {
   "display_name": "aps",
   "language": "python",
   "name": "python3"
  },
  "language_info": {
   "codemirror_mode": {
    "name": "ipython",
    "version": 3
   },
   "file_extension": ".py",
   "mimetype": "text/x-python",
   "name": "python",
   "nbconvert_exporter": "python",
   "pygments_lexer": "ipython3",
   "version": "3.10.16"
  }
 },
 "nbformat": 4,
 "nbformat_minor": 2
}
